{
 "cells": [
  {
   "cell_type": "code",
   "execution_count": 4,
   "metadata": {},
   "outputs": [],
   "source": [
    "import pandas as pd\n",
    "import matplotlib.pyplot as plt\n",
    "import numpy as np\n",
    "from sklearn.linear_model import LinearRegression\n",
    "from sklearn.model_selection import train_test_split"
   ]
  },
  {
   "cell_type": "markdown",
   "metadata": {},
   "source": [
    "### Manual Multivariate Regression"
   ]
  },
  {
   "cell_type": "code",
   "execution_count": 5,
   "metadata": {},
   "outputs": [],
   "source": [
    "#y=M1*X1+M2*X2+....+MnXn + c\n",
    "#c = ybar - (M1*meanx1 + m2*meanx2)\n",
    "#m1 = ((x1-meanx1)(y - meany))/(x1 - meanx1)**2\n",
    "#m2 = ((x2-meanx2)(y - meany))/(x2 - meanx2)**2\n",
    "#r2score = 1 - (y - yp)**2/(y - ymean)**2"
   ]
  },
  {
   "cell_type": "code",
   "execution_count": 20,
   "metadata": {},
   "outputs": [],
   "source": [
    "area = [2600,3000,3200,3600,4000,4100]\n",
    "age = [20,15,18,30,8,8]\n",
    "price = [550000,565000,610000,595000,760000,810000]"
   ]
  },
  {
   "cell_type": "code",
   "execution_count": 21,
   "metadata": {},
   "outputs": [
    {
     "name": "stdout",
     "output_type": "stream",
     "text": [
      "Mean area is 3416.6666666666665\n",
      "Mean age is 16.5\n",
      "First Coeffiecient m1 is 167.30954676952746\n",
      "Second Coeffiecient m2 is -9665.211062590975\n",
      "The intercept c is is 236168.3644035324\n"
     ]
    }
   ],
   "source": [
    "#Finding out m1,m2 and c\n",
    "\n",
    "meanx1 = np.mean(area)\n",
    "meanx2 = np.mean(age)\n",
    "meany = np.mean(price)\n",
    "numerator1 = 0\n",
    "numerator2 = 0\n",
    "denomerator1 = 0\n",
    "denomerator2 = 0\n",
    "for i in range(len(area)):\n",
    "    numerator1 += ((area[i] - meanx1) * (price[i] - meany))\n",
    "    denomerator1 += ((area[i]-meanx1)**2)\n",
    "    numerator2 += ((age[i] - meanx2) * (price[i] - meany))\n",
    "    denomerator2 += ((age[i]-meanx2)**2)\n",
    "m1 = numerator1/denomerator1\n",
    "m2 = numerator2/denomerator2\n",
    "c=meany-(m1*meanx1 + m2*meanx2)\n",
    "print(f'Mean area is {meanx1}')\n",
    "print(f'Mean age is {meanx2}')\n",
    "print(f'First Coeffiecient m1 is {m1}')\n",
    "print(f'Second Coeffiecient m2 is {m2}')\n",
    "print(f'The intercept c is is {c}')"
   ]
  },
  {
   "cell_type": "code",
   "execution_count": 40,
   "metadata": {},
   "outputs": [
    {
     "name": "stdout",
     "output_type": "stream",
     "text": [
      " Predicted Values [647777.978970241, 588652.5626071176]\n"
     ]
    }
   ],
   "source": [
    "#predicting for price with respect to area1 and age2\n",
    "\n",
    "area1 = [3500,2800]\n",
    "age2 = [18,12]\n",
    "price2 = [64000,59000]\n",
    "\n",
    "predy = list()\n",
    "for i in range(len(area1)):\n",
    "    predy.append(m1*area1[i]+m2*age2[i] + c)\n",
    "print(f' Predicted Values {predy}')"
   ]
  },
  {
   "cell_type": "code",
   "execution_count": 44,
   "metadata": {},
   "outputs": [
    {
     "name": "stdout",
     "output_type": "stream",
     "text": [
      "R2score is 0.09790163854038492\n"
     ]
    }
   ],
   "source": [
    "#Finding out the r2 score\n",
    "\n",
    "ymean = np.mean(price)\n",
    "ssres = 0.0\n",
    "sstot = 0.0\n",
    "for i in range(len(price2)):\n",
    "    ssres += (price2[i]-predy[i])**2\n",
    "    sstot += (price2[i]-ymean)**2\n",
    "r2score = 1 - (ssres/sstot)\n",
    "print(f'R2score is {r2score}')"
   ]
  },
  {
   "cell_type": "markdown",
   "metadata": {},
   "source": [
    "### Sklearn Multivariate Regression"
   ]
  },
  {
   "cell_type": "code",
   "execution_count": 70,
   "metadata": {},
   "outputs": [
    {
     "name": "stdout",
     "output_type": "stream",
     "text": [
      "Predicted value is [[655572.1716515]]\n"
     ]
    },
    {
     "data": {
      "text/plain": [
       "0.9508638002468511"
      ]
     },
     "execution_count": 70,
     "metadata": {},
     "output_type": "execute_result"
    }
   ],
   "source": [
    "#Using sklearn\n",
    "from sklearn.linear_model import LinearRegression\n",
    "from sklearn.model_selection import train_test_split\n",
    "\n",
    "#creating a df\n",
    "data = {'Age':age, 'Area':area,'Price':price}\n",
    "df = pd.DataFrame(data)\n",
    "\n",
    "#Clustering the data\n",
    "x = df[['Age','Area']]\n",
    "y = df[['Price']]\n",
    "\n",
    "#Splitting the data for training and testing\n",
    "X_train,X_test,Y_train,Y_test = train_test_split(x, y, test_size = 0.2, random_state = 11)\n",
    "\n",
    "#Multivariate regression object\n",
    "model = LinearRegression()\n",
    "\n",
    "#fitting the data\n",
    "model.fit(X_train,Y_train)\n",
    "\n",
    "#Prediction\n",
    "predicted_value = model.predict([[18,3500]])\n",
    "print('Predicted value is',predicted_value)\n",
    "\n",
    "#R2\n",
    "model.score(X_test,Y_test)"
   ]
  }
 ],
 "metadata": {
  "kernelspec": {
   "display_name": "Python 3",
   "language": "python",
   "name": "python3"
  },
  "language_info": {
   "codemirror_mode": {
    "name": "ipython",
    "version": 3
   },
   "file_extension": ".py",
   "mimetype": "text/x-python",
   "name": "python",
   "nbconvert_exporter": "python",
   "pygments_lexer": "ipython3",
   "version": "3.7.3"
  }
 },
 "nbformat": 4,
 "nbformat_minor": 2
}
