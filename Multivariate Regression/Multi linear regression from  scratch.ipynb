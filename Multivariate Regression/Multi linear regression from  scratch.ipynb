{
 "cells": [
  {
   "cell_type": "markdown",
   "metadata": {},
   "source": [
    "# Multi linear from scratch "
   ]
  },
  {
   "cell_type": "code",
   "execution_count": null,
   "metadata": {},
   "outputs": [],
   "source": [
    "class MultiLinearReg: \n",
    "    def fit(self,y,*args):\n",
    "        count=0\n",
    "        m=[]\n",
    "        for mean in args:\n",
    "            X_mean=np.mean(args[count])\n",
    "            m.append(X_mean)\n",
    "            count +=1\n",
    "        y_mean=np.mean(y)\n",
    "        numerator=0\n",
    "        denominator=0\n",
    "        global mean_val\n",
    "        mean_val=[]\n",
    "        mi=len(mean_val)\n",
    "        for count in range(len(args)):\n",
    "            c=0\n",
    "            for i in range(len(args[0])):     #len(args[0])\n",
    "                numerator+= (args[count][i]-m[count])*(y[i]-y_mean)\n",
    "                denominator+= (args[count][i]-m[count]) ** 2\n",
    "            m1 = numerator/denominator\n",
    "            mean_val.append(m1)\n",
    "        print('mean_val',mean_val)\n",
    "        c = y_mean-(mean_val[0] * m[0]+mean_val[1]*m[1])\n",
    "        print('c',c)\n",
    "        \n",
    "    def predict(self,*args):\n",
    "        y=c+(mean_val[0] * args[0]+mean_val[0]*args[1])\n",
    "        return y\n",
    "\n",
    "ob=MultiLinearReg()\n",
    "ob.fit(Y,X1,X2)\n",
    "ob.predict(X1,X2)"
   ]
  }
 ],
 "metadata": {
  "kernelspec": {
   "display_name": "Python 3",
   "language": "python",
   "name": "python3"
  },
  "language_info": {
   "codemirror_mode": {
    "name": "ipython",
    "version": 3
   },
   "file_extension": ".py",
   "mimetype": "text/x-python",
   "name": "python",
   "nbconvert_exporter": "python",
   "pygments_lexer": "ipython3",
   "version": "3.7.4"
  }
 },
 "nbformat": 4,
 "nbformat_minor": 2
}
