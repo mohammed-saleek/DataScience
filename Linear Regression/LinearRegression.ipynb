{
 "cells": [
  {
   "cell_type": "code",
   "execution_count": 53,
   "metadata": {},
   "outputs": [],
   "source": [
    "import pandas as pd\n",
    "import matplotlib.pyplot as plt\n",
    "import numpy as np\n",
    "from sklearn.linear_model import LinearRegression\n",
    "from sklearn.model_selection import train_test_split"
   ]
  },
  {
   "cell_type": "markdown",
   "metadata": {},
   "source": [
    "### Manual Linear Regression"
   ]
  },
  {
   "cell_type": "code",
   "execution_count": 121,
   "metadata": {},
   "outputs": [
    {
     "name": "stdout",
     "output_type": "stream",
     "text": [
      "0.9739390052221979\n",
      "M is -7.164488017429194\n",
      "c is 195.14324618736384\n"
     ]
    },
    {
     "data": {
      "image/png": "[encoded data removed]",
      "text/plain": [
       "<Figure size 432x288 with 1 Axes>"
      ]
     },
     "metadata": {
      "needs_background": "light"
     },
     "output_type": "display_data"
    }
   ],
   "source": [
    "b = [i for i in range(1,21)]\n",
    "xdata = b\n",
    "ydata = [200,190,180,175,170,160,150,130,128,113,100,90,80,85,83,82,80,78,75,72]\n",
    "\n",
    "# y = mx+c\n",
    "# m = (x-xbar)(y-ybar) // (x-xbar)**2\n",
    "# c = ymean - m* meanx\n",
    "#r2score = 1 - ((y - ypred)**2 /( y - meany )**2)\n",
    "\n",
    "def linear_regression(x,y):\n",
    "    meanx = np.mean(x)\n",
    "    meany = np.mean(y)\n",
    "    numer = 0\n",
    "    denom = 0\n",
    "    for i in range(len(x)):\n",
    "        numer += ((x[i] - meanx) * (y[i] - meany))\n",
    "        denom += ((x[i]-meanx)**2)\n",
    "    m = numer/denom\n",
    "    c = meany - m*meanx\n",
    "    return m,c\n",
    "\n",
    "def predicting(xvalue,m,c):\n",
    "    predy = list()\n",
    "    for i in range(len(xvalue)):\n",
    "        predy.append(m *xvalue[i] + c)\n",
    "    return predy\n",
    "\n",
    "def r2score(ydata, ypred):\n",
    "    ymean = np.mean(ydata)\n",
    "    numerator = 0.0\n",
    "    denomerator = 0.0\n",
    "    for i in range(len(ydata)):\n",
    "        numerator += ((ydata[i] - ypred[i])**2)\n",
    "        denomerator += ((ydata[i] - ymean)**2)\n",
    "    r2 = 1 - ((numerator / denomerator))\n",
    "    return r2\n",
    "\n",
    "X_train, X_test, Y_train, Y_test = train_test_split(xdata, ydata, test_size = 0.2, random_state = 3)\n",
    "\n",
    "m,c = linear_regression(X_train, Y_train)\n",
    "predicted_y = predicting(X_test,m,c)\n",
    "r2value = r2score(Y_test, predicted_y)\n",
    "\n",
    "#Plotting\n",
    "plt.plot(X_test,predicted_y, color ='red', label = 'Linear_regression')\n",
    "plt.scatter(X_train,Y_train, color = 'blue', label = 'ScatterPlot')\n",
    "\n",
    "print(r2value)\n",
    "print(f'M is {m}')\n",
    "print(f'c is {c}')"
   ]
  },
  {
   "cell_type": "markdown",
   "metadata": {},
   "source": [
    "### Sklearn Linear Regression"
   ]
  },
  {
   "cell_type": "code",
   "execution_count": 120,
   "metadata": {},
   "outputs": [
    {
     "name": "stdout",
     "output_type": "stream",
     "text": [
      "R2score is 0.9739390052221979\n",
      "M is [-7.16448802]\n",
      "c is 195.14324618736384\n"
     ]
    }
   ],
   "source": [
    "b = [i for i in range(1,21)]\n",
    "xo = b\n",
    "yo = [200,190,180,175,170,160,150,130,128,113,100,90,80,85,83,82,80,78,75,72]\n",
    "d = {'Age':xo, 'Speed':yo}\n",
    "df = pd.DataFrame(d)\n",
    "cols = df.values\n",
    "xdata = cols[:, 0]\n",
    "ydata = cols[:, 1]\n",
    "\n",
    "xdata= xdata.reshape((len(xdata),1)) \n",
    "\n",
    "model = LinearRegression()\n",
    "\n",
    "X_train, X_test, Y_train,Y_test = train_test_split(xdata, ydata, test_size = 0.2, random_state = 3)\n",
    "\n",
    "model.fit(X_train,Y_train)\n",
    "\n",
    "model.predict(X_test)\n",
    "\n",
    "r2 = model.score(X_test,Y_test)\n",
    "\n",
    "\n",
    "m = model.coef_\n",
    "c = model.intercept_\n",
    "print(f'R2score is {r2}')\n",
    "print(f'M is {m}')\n",
    "print(f'c is {c}')"
   ]
  }
 ],
 "metadata": {
  "kernelspec": {
   "display_name": "Python 3",
   "language": "python",
   "name": "python3"
  },
  "language_info": {
   "codemirror_mode": {
    "name": "ipython",
    "version": 3
   },
   "file_extension": ".py",
   "mimetype": "text/x-python",
   "name": "python",
   "nbconvert_exporter": "python",
   "pygments_lexer": "ipython3",
   "version": "3.7.3"
  }
 },
 "nbformat": 4,
 "nbformat_minor": 2
}
